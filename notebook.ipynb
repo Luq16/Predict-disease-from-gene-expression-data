{
 "cells": [
  {
   "cell_type": "markdown",
   "metadata": {},
   "source": [
    "## About data\n",
    "#### Data used is breast cancer RNAseq dataset download from Firehose (https://gdac.broadinstitute.org/). This data has already been normalized "
   ]
  },
  {
   "cell_type": "code",
   "execution_count": 1,
   "metadata": {},
   "outputs": [
    {
     "name": "stderr",
     "output_type": "stream",
     "text": [
      "randomForest 4.6-14\n",
      "\n",
      "Type rfNews() to see new features/changes/bug fixes.\n",
      "\n"
     ]
    }
   ],
   "source": [
    "# load libraries\n",
    "library(randomForest)\n",
    "library(class)"
   ]
  },
  {
   "cell_type": "code",
   "execution_count": 2,
   "metadata": {},
   "outputs": [],
   "source": [
    "#Download dataset from Firehose\n",
    "url_data <- \"http://gdac.broadinstitute.org/runs/stddata__2016_01_28/data/BRCA/20160128/gdac.broadinstitute.org_BRCA.Merge_rnaseqv2__illuminahiseq_rnaseqv2__unc_edu__Level_3__RSEM_genes_normalized__data.Level_3.2016012800.0.0.tar.gz\"\n",
    "dest_file <- \"~/Desktop/git_repo/Predict-disease-from-gene-expression-data/data.gz\"\n",
    "download.file(url_data, dest_file)"
   ]
  },
  {
   "cell_type": "code",
   "execution_count": 6,
   "metadata": {},
   "outputs": [
    {
     "data": {
      "text/html": [
       "<table class=\"dataframe\">\n",
       "<caption>A data.frame: 6 × 1214</caption>\n",
       "<thead>\n",
       "\t<tr><th></th><th scope=col>V1</th><th scope=col>V2</th><th scope=col>V3</th><th scope=col>V4</th><th scope=col>V5</th><th scope=col>V6</th><th scope=col>V7</th><th scope=col>V8</th><th scope=col>V9</th><th scope=col>V10</th><th scope=col>⋯</th><th scope=col>V1205</th><th scope=col>V1206</th><th scope=col>V1207</th><th scope=col>V1208</th><th scope=col>V1209</th><th scope=col>V1210</th><th scope=col>V1211</th><th scope=col>V1212</th><th scope=col>V1213</th><th scope=col>V1214</th></tr>\n",
       "\t<tr><th></th><th scope=col>&lt;chr&gt;</th><th scope=col>&lt;chr&gt;</th><th scope=col>&lt;chr&gt;</th><th scope=col>&lt;chr&gt;</th><th scope=col>&lt;chr&gt;</th><th scope=col>&lt;chr&gt;</th><th scope=col>&lt;chr&gt;</th><th scope=col>&lt;chr&gt;</th><th scope=col>&lt;chr&gt;</th><th scope=col>&lt;chr&gt;</th><th scope=col>⋯</th><th scope=col>&lt;chr&gt;</th><th scope=col>&lt;chr&gt;</th><th scope=col>&lt;chr&gt;</th><th scope=col>&lt;chr&gt;</th><th scope=col>&lt;chr&gt;</th><th scope=col>&lt;chr&gt;</th><th scope=col>&lt;chr&gt;</th><th scope=col>&lt;chr&gt;</th><th scope=col>&lt;chr&gt;</th><th scope=col>&lt;chr&gt;</th></tr>\n",
       "</thead>\n",
       "<tbody>\n",
       "\t<tr><th scope=row>1</th><td>Hybridization</td><td>REF             </td><td>TCGA-3C-AAAU-01A-11R-A41B-07</td><td>TCGA-3C-AALI-01A-11R-A41B-07</td><td>TCGA-3C-AALJ-01A-31R-A41B-07</td><td>TCGA-3C-AALK-01A-11R-A41B-07</td><td>TCGA-4H-AAAK-01A-12R-A41B-07</td><td>TCGA-5L-AAT0-01A-12R-A41B-07</td><td>TCGA-5L-AAT1-01A-12R-A41B-07</td><td>TCGA-5T-A9QA-01A-11R-A41B-07</td><td>⋯</td><td>TCGA-UL-AAZ6-01A-11R-A41B-07</td><td>TCGA-UU-A93S-01A-21R-A41B-07</td><td>TCGA-V7-A7HQ-01A-11R-A33J-07</td><td>TCGA-W8-A86G-01A-21R-A36F-07</td><td>TCGA-WT-AB41-01A-11R-A41B-07</td><td>TCGA-WT-AB44-01A-11R-A41B-07</td><td>TCGA-XX-A899-01A-11R-A36F-07</td><td>TCGA-XX-A89A-01A-11R-A36F-07</td><td>TCGA-Z7-A8R5-01A-42R-A41B-07</td><td>TCGA-Z7-A8R6-01A-11R-A41B-07</td></tr>\n",
       "\t<tr><th scope=row>2</th><td>gene_id      </td><td>normalized_count</td><td>normalized_count            </td><td>normalized_count            </td><td>normalized_count            </td><td>normalized_count            </td><td>normalized_count            </td><td>normalized_count            </td><td>normalized_count            </td><td>normalized_count            </td><td>⋯</td><td>normalized_count            </td><td>normalized_count            </td><td>normalized_count            </td><td>normalized_count            </td><td>normalized_count            </td><td>normalized_count            </td><td>normalized_count            </td><td>normalized_count            </td><td>normalized_count            </td><td>                            </td></tr>\n",
       "\t<tr><th scope=row>3</th><td>?|100130426  </td><td>0.0000          </td><td>0.0000                      </td><td>0.9066                      </td><td>0.0000                      </td><td>0.0000                      </td><td>0.0000                      </td><td>0.0000                      </td><td>0.0000                      </td><td>0.0000                      </td><td>⋯</td><td>0.0000                      </td><td>0.0000                      </td><td>0.0000                      </td><td>0.0000                      </td><td>0.0000                      </td><td>0.0000                      </td><td>0.0000                      </td><td>0.0000                      </td><td>0.0000                      </td><td>                            </td></tr>\n",
       "\t<tr><th scope=row>4</th><td>?|100133144  </td><td>16.3644         </td><td>9.2659                      </td><td>11.6228                     </td><td>12.0894                     </td><td>6.8468                      </td><td>3.9889                      </td><td>0.0000                      </td><td>1.4644                      </td><td>15.3396                     </td><td>⋯</td><td>4.3126                      </td><td>0.0000                      </td><td>5.5624                      </td><td>0.0000                      </td><td>0.0000                      </td><td>14.3858                     </td><td>22.3240                     </td><td>2.2638                      </td><td>6.8865                      </td><td>                            </td></tr>\n",
       "\t<tr><th scope=row>5</th><td>?|100134869  </td><td>12.9316         </td><td>17.3790                     </td><td>9.2294                      </td><td>11.0799                     </td><td>14.4298                     </td><td>13.6090                     </td><td>10.5949                     </td><td>8.9958                      </td><td>14.3935                     </td><td>⋯</td><td>10.8828                     </td><td>3.0792                      </td><td>14.3711                     </td><td>6.3091                      </td><td>3.2580                      </td><td>21.4409                     </td><td>27.2744                     </td><td>7.2933                      </td><td>24.7795                     </td><td>                            </td></tr>\n",
       "\t<tr><th scope=row>6</th><td>?|10357      </td><td>52.1503         </td><td>69.7553                     </td><td>154.2974                    </td><td>143.8643                    </td><td>84.2128                     </td><td>114.2572                    </td><td>115.9984                    </td><td>107.5628                    </td><td>116.3870                    </td><td>⋯</td><td>136.1288                    </td><td>29.9974                     </td><td>128.3151                    </td><td>53.6278                     </td><td>42.2643                     </td><td>137.7756                    </td><td>64.1427                     </td><td>85.0461                     </td><td>167.5511                    </td><td>                            </td></tr>\n",
       "</tbody>\n",
       "</table>\n"
      ],
      "text/latex": [
       "A data.frame: 6 × 1214\n",
       "\\begin{tabular}{r|lllllllllllllllllllll}\n",
       "  & V1 & V2 & V3 & V4 & V5 & V6 & V7 & V8 & V9 & V10 & ⋯ & V1205 & V1206 & V1207 & V1208 & V1209 & V1210 & V1211 & V1212 & V1213 & V1214\\\\\n",
       "  & <chr> & <chr> & <chr> & <chr> & <chr> & <chr> & <chr> & <chr> & <chr> & <chr> & ⋯ & <chr> & <chr> & <chr> & <chr> & <chr> & <chr> & <chr> & <chr> & <chr> & <chr>\\\\\n",
       "\\hline\n",
       "\t1 & Hybridization & REF              & TCGA-3C-AAAU-01A-11R-A41B-07 & TCGA-3C-AALI-01A-11R-A41B-07 & TCGA-3C-AALJ-01A-31R-A41B-07 & TCGA-3C-AALK-01A-11R-A41B-07 & TCGA-4H-AAAK-01A-12R-A41B-07 & TCGA-5L-AAT0-01A-12R-A41B-07 & TCGA-5L-AAT1-01A-12R-A41B-07 & TCGA-5T-A9QA-01A-11R-A41B-07 & ⋯ & TCGA-UL-AAZ6-01A-11R-A41B-07 & TCGA-UU-A93S-01A-21R-A41B-07 & TCGA-V7-A7HQ-01A-11R-A33J-07 & TCGA-W8-A86G-01A-21R-A36F-07 & TCGA-WT-AB41-01A-11R-A41B-07 & TCGA-WT-AB44-01A-11R-A41B-07 & TCGA-XX-A899-01A-11R-A36F-07 & TCGA-XX-A89A-01A-11R-A36F-07 & TCGA-Z7-A8R5-01A-42R-A41B-07 & TCGA-Z7-A8R6-01A-11R-A41B-07\\\\\n",
       "\t2 & gene\\_id       & normalized\\_count & normalized\\_count             & normalized\\_count             & normalized\\_count             & normalized\\_count             & normalized\\_count             & normalized\\_count             & normalized\\_count             & normalized\\_count             & ⋯ & normalized\\_count             & normalized\\_count             & normalized\\_count             & normalized\\_count             & normalized\\_count             & normalized\\_count             & normalized\\_count             & normalized\\_count             & normalized\\_count             &                             \\\\\n",
       "\t3 & ?\\textbar{}100130426   & 0.0000           & 0.0000                       & 0.9066                       & 0.0000                       & 0.0000                       & 0.0000                       & 0.0000                       & 0.0000                       & 0.0000                       & ⋯ & 0.0000                       & 0.0000                       & 0.0000                       & 0.0000                       & 0.0000                       & 0.0000                       & 0.0000                       & 0.0000                       & 0.0000                       &                             \\\\\n",
       "\t4 & ?\\textbar{}100133144   & 16.3644          & 9.2659                       & 11.6228                      & 12.0894                      & 6.8468                       & 3.9889                       & 0.0000                       & 1.4644                       & 15.3396                      & ⋯ & 4.3126                       & 0.0000                       & 5.5624                       & 0.0000                       & 0.0000                       & 14.3858                      & 22.3240                      & 2.2638                       & 6.8865                       &                             \\\\\n",
       "\t5 & ?\\textbar{}100134869   & 12.9316          & 17.3790                      & 9.2294                       & 11.0799                      & 14.4298                      & 13.6090                      & 10.5949                      & 8.9958                       & 14.3935                      & ⋯ & 10.8828                      & 3.0792                       & 14.3711                      & 6.3091                       & 3.2580                       & 21.4409                      & 27.2744                      & 7.2933                       & 24.7795                      &                             \\\\\n",
       "\t6 & ?\\textbar{}10357       & 52.1503          & 69.7553                      & 154.2974                     & 143.8643                     & 84.2128                      & 114.2572                     & 115.9984                     & 107.5628                     & 116.3870                     & ⋯ & 136.1288                     & 29.9974                      & 128.3151                     & 53.6278                      & 42.2643                      & 137.7756                     & 64.1427                      & 85.0461                      & 167.5511                     &                             \\\\\n",
       "\\end{tabular}\n"
      ],
      "text/markdown": [
       "\n",
       "A data.frame: 6 × 1214\n",
       "\n",
       "| <!--/--> | V1 &lt;chr&gt; | V2 &lt;chr&gt; | V3 &lt;chr&gt; | V4 &lt;chr&gt; | V5 &lt;chr&gt; | V6 &lt;chr&gt; | V7 &lt;chr&gt; | V8 &lt;chr&gt; | V9 &lt;chr&gt; | V10 &lt;chr&gt; | ⋯ ⋯ | V1205 &lt;chr&gt; | V1206 &lt;chr&gt; | V1207 &lt;chr&gt; | V1208 &lt;chr&gt; | V1209 &lt;chr&gt; | V1210 &lt;chr&gt; | V1211 &lt;chr&gt; | V1212 &lt;chr&gt; | V1213 &lt;chr&gt; | V1214 &lt;chr&gt; |\n",
       "|---|---|---|---|---|---|---|---|---|---|---|---|---|---|---|---|---|---|---|---|---|---|\n",
       "| 1 | Hybridization | REF              | TCGA-3C-AAAU-01A-11R-A41B-07 | TCGA-3C-AALI-01A-11R-A41B-07 | TCGA-3C-AALJ-01A-31R-A41B-07 | TCGA-3C-AALK-01A-11R-A41B-07 | TCGA-4H-AAAK-01A-12R-A41B-07 | TCGA-5L-AAT0-01A-12R-A41B-07 | TCGA-5L-AAT1-01A-12R-A41B-07 | TCGA-5T-A9QA-01A-11R-A41B-07 | ⋯ | TCGA-UL-AAZ6-01A-11R-A41B-07 | TCGA-UU-A93S-01A-21R-A41B-07 | TCGA-V7-A7HQ-01A-11R-A33J-07 | TCGA-W8-A86G-01A-21R-A36F-07 | TCGA-WT-AB41-01A-11R-A41B-07 | TCGA-WT-AB44-01A-11R-A41B-07 | TCGA-XX-A899-01A-11R-A36F-07 | TCGA-XX-A89A-01A-11R-A36F-07 | TCGA-Z7-A8R5-01A-42R-A41B-07 | TCGA-Z7-A8R6-01A-11R-A41B-07 |\n",
       "| 2 | gene_id       | normalized_count | normalized_count             | normalized_count             | normalized_count             | normalized_count             | normalized_count             | normalized_count             | normalized_count             | normalized_count             | ⋯ | normalized_count             | normalized_count             | normalized_count             | normalized_count             | normalized_count             | normalized_count             | normalized_count             | normalized_count             | normalized_count             | <!----> |\n",
       "| 3 | ?|100130426   | 0.0000           | 0.0000                       | 0.9066                       | 0.0000                       | 0.0000                       | 0.0000                       | 0.0000                       | 0.0000                       | 0.0000                       | ⋯ | 0.0000                       | 0.0000                       | 0.0000                       | 0.0000                       | 0.0000                       | 0.0000                       | 0.0000                       | 0.0000                       | 0.0000                       | <!----> |\n",
       "| 4 | ?|100133144   | 16.3644          | 9.2659                       | 11.6228                      | 12.0894                      | 6.8468                       | 3.9889                       | 0.0000                       | 1.4644                       | 15.3396                      | ⋯ | 4.3126                       | 0.0000                       | 5.5624                       | 0.0000                       | 0.0000                       | 14.3858                      | 22.3240                      | 2.2638                       | 6.8865                       | <!----> |\n",
       "| 5 | ?|100134869   | 12.9316          | 17.3790                      | 9.2294                       | 11.0799                      | 14.4298                      | 13.6090                      | 10.5949                      | 8.9958                       | 14.3935                      | ⋯ | 10.8828                      | 3.0792                       | 14.3711                      | 6.3091                       | 3.2580                       | 21.4409                      | 27.2744                      | 7.2933                       | 24.7795                      | <!----> |\n",
       "| 6 | ?|10357       | 52.1503          | 69.7553                      | 154.2974                     | 143.8643                     | 84.2128                      | 114.2572                     | 115.9984                     | 107.5628                     | 116.3870                     | ⋯ | 136.1288                     | 29.9974                      | 128.3151                     | 53.6278                      | 42.2643                      | 137.7756                     | 64.1427                      | 85.0461                      | 167.5511                     | <!----> |\n",
       "\n"
      ],
      "text/plain": [
       "  V1            V2               V3                          \n",
       "1 Hybridization REF              TCGA-3C-AAAU-01A-11R-A41B-07\n",
       "2 gene_id       normalized_count normalized_count            \n",
       "3 ?|100130426   0.0000           0.0000                      \n",
       "4 ?|100133144   16.3644          9.2659                      \n",
       "5 ?|100134869   12.9316          17.3790                     \n",
       "6 ?|10357       52.1503          69.7553                     \n",
       "  V4                           V5                          \n",
       "1 TCGA-3C-AALI-01A-11R-A41B-07 TCGA-3C-AALJ-01A-31R-A41B-07\n",
       "2 normalized_count             normalized_count            \n",
       "3 0.9066                       0.0000                      \n",
       "4 11.6228                      12.0894                     \n",
       "5 9.2294                       11.0799                     \n",
       "6 154.2974                     143.8643                    \n",
       "  V6                           V7                          \n",
       "1 TCGA-3C-AALK-01A-11R-A41B-07 TCGA-4H-AAAK-01A-12R-A41B-07\n",
       "2 normalized_count             normalized_count            \n",
       "3 0.0000                       0.0000                      \n",
       "4 6.8468                       3.9889                      \n",
       "5 14.4298                      13.6090                     \n",
       "6 84.2128                      114.2572                    \n",
       "  V8                           V9                          \n",
       "1 TCGA-5L-AAT0-01A-12R-A41B-07 TCGA-5L-AAT1-01A-12R-A41B-07\n",
       "2 normalized_count             normalized_count            \n",
       "3 0.0000                       0.0000                      \n",
       "4 0.0000                       1.4644                      \n",
       "5 10.5949                      8.9958                      \n",
       "6 115.9984                     107.5628                    \n",
       "  V10                          ⋯ V1205                       \n",
       "1 TCGA-5T-A9QA-01A-11R-A41B-07 ⋯ TCGA-UL-AAZ6-01A-11R-A41B-07\n",
       "2 normalized_count             ⋯ normalized_count            \n",
       "3 0.0000                       ⋯ 0.0000                      \n",
       "4 15.3396                      ⋯ 4.3126                      \n",
       "5 14.3935                      ⋯ 10.8828                     \n",
       "6 116.3870                     ⋯ 136.1288                    \n",
       "  V1206                        V1207                       \n",
       "1 TCGA-UU-A93S-01A-21R-A41B-07 TCGA-V7-A7HQ-01A-11R-A33J-07\n",
       "2 normalized_count             normalized_count            \n",
       "3 0.0000                       0.0000                      \n",
       "4 0.0000                       5.5624                      \n",
       "5 3.0792                       14.3711                     \n",
       "6 29.9974                      128.3151                    \n",
       "  V1208                        V1209                       \n",
       "1 TCGA-W8-A86G-01A-21R-A36F-07 TCGA-WT-AB41-01A-11R-A41B-07\n",
       "2 normalized_count             normalized_count            \n",
       "3 0.0000                       0.0000                      \n",
       "4 0.0000                       0.0000                      \n",
       "5 6.3091                       3.2580                      \n",
       "6 53.6278                      42.2643                     \n",
       "  V1210                        V1211                       \n",
       "1 TCGA-WT-AB44-01A-11R-A41B-07 TCGA-XX-A899-01A-11R-A36F-07\n",
       "2 normalized_count             normalized_count            \n",
       "3 0.0000                       0.0000                      \n",
       "4 14.3858                      22.3240                     \n",
       "5 21.4409                      27.2744                     \n",
       "6 137.7756                     64.1427                     \n",
       "  V1212                        V1213                       \n",
       "1 TCGA-XX-A89A-01A-11R-A36F-07 TCGA-Z7-A8R5-01A-42R-A41B-07\n",
       "2 normalized_count             normalized_count            \n",
       "3 0.0000                       0.0000                      \n",
       "4 2.2638                       6.8865                      \n",
       "5 7.2933                       24.7795                     \n",
       "6 85.0461                      167.5511                    \n",
       "  V1214                       \n",
       "1 TCGA-Z7-A8R6-01A-11R-A41B-07\n",
       "2                             \n",
       "3                             \n",
       "4                             \n",
       "5                             \n",
       "6                             "
      ]
     },
     "metadata": {},
     "output_type": "display_data"
    }
   ],
   "source": []
  },
  {
   "cell_type": "code",
   "execution_count": 7,
   "metadata": {},
   "outputs": [
    {
     "data": {
      "text/html": [
       "<table class=\"dataframe\">\n",
       "<caption>A data.frame: 6 × 1213</caption>\n",
       "<thead>\n",
       "\t<tr><th></th><th scope=col>V1</th><th scope=col>V2</th><th scope=col>V3</th><th scope=col>V4</th><th scope=col>V5</th><th scope=col>V6</th><th scope=col>V7</th><th scope=col>V8</th><th scope=col>V9</th><th scope=col>V10</th><th scope=col>⋯</th><th scope=col>V1204</th><th scope=col>V1205</th><th scope=col>V1206</th><th scope=col>V1207</th><th scope=col>V1208</th><th scope=col>V1209</th><th scope=col>V1210</th><th scope=col>V1211</th><th scope=col>V1212</th><th scope=col>V1213</th></tr>\n",
       "\t<tr><th></th><th scope=col>&lt;chr&gt;</th><th scope=col>&lt;dbl&gt;</th><th scope=col>&lt;dbl&gt;</th><th scope=col>&lt;dbl&gt;</th><th scope=col>&lt;dbl&gt;</th><th scope=col>&lt;dbl&gt;</th><th scope=col>&lt;dbl&gt;</th><th scope=col>&lt;dbl&gt;</th><th scope=col>&lt;dbl&gt;</th><th scope=col>&lt;dbl&gt;</th><th scope=col>⋯</th><th scope=col>&lt;dbl&gt;</th><th scope=col>&lt;dbl&gt;</th><th scope=col>&lt;dbl&gt;</th><th scope=col>&lt;dbl&gt;</th><th scope=col>&lt;dbl&gt;</th><th scope=col>&lt;dbl&gt;</th><th scope=col>&lt;dbl&gt;</th><th scope=col>&lt;dbl&gt;</th><th scope=col>&lt;dbl&gt;</th><th scope=col>&lt;dbl&gt;</th></tr>\n",
       "</thead>\n",
       "<tbody>\n",
       "\t<tr><th scope=row>1</th><td>?|100130426</td><td>  0.0000</td><td>  0.0000</td><td>   0.9066</td><td>  0.0000</td><td>  0.0000</td><td>  0.0000</td><td>   0.0000</td><td>   0.0000</td><td>  0.0000</td><td>⋯</td><td>   0.0000</td><td>   0.0000</td><td>   0.0000</td><td>  0.0000</td><td>   0.0000</td><td>   0.0000</td><td>  0.0000</td><td>  0.0000</td><td>   0.0000</td><td>   0.0000</td></tr>\n",
       "\t<tr><th scope=row>2</th><td>?|100133144</td><td> 16.3644</td><td>  9.2659</td><td>  11.6228</td><td> 12.0894</td><td>  6.8468</td><td>  3.9889</td><td>   0.0000</td><td>   1.4644</td><td> 15.3396</td><td>⋯</td><td>   0.3992</td><td>   4.3126</td><td>   0.0000</td><td>  5.5624</td><td>   0.0000</td><td>   0.0000</td><td> 14.3858</td><td> 22.3240</td><td>   2.2638</td><td>   6.8865</td></tr>\n",
       "\t<tr><th scope=row>3</th><td>?|100134869</td><td> 12.9316</td><td> 17.3790</td><td>   9.2294</td><td> 11.0799</td><td> 14.4298</td><td> 13.6090</td><td>  10.5949</td><td>   8.9958</td><td> 14.3935</td><td>⋯</td><td>  14.3720</td><td>  10.8828</td><td>   3.0792</td><td> 14.3711</td><td>   6.3091</td><td>   3.2580</td><td> 21.4409</td><td> 27.2744</td><td>   7.2933</td><td>  24.7795</td></tr>\n",
       "\t<tr><th scope=row>4</th><td>?|10357    </td><td> 52.1503</td><td> 69.7553</td><td> 154.2974</td><td>143.8643</td><td> 84.2128</td><td>114.2572</td><td> 115.9984</td><td> 107.5628</td><td>116.3870</td><td>⋯</td><td> 135.6241</td><td> 136.1288</td><td>  29.9974</td><td>128.3151</td><td>  53.6278</td><td>  42.2643</td><td>137.7756</td><td> 64.1427</td><td>  85.0461</td><td> 167.5511</td></tr>\n",
       "\t<tr><th scope=row>5</th><td>?|10431    </td><td>408.0760</td><td>563.8934</td><td>1360.8341</td><td>865.5358</td><td>766.3830</td><td>807.7431</td><td>1108.3945</td><td>1420.5021</td><td>657.2812</td><td>⋯</td><td>1570.1445</td><td>2886.3965</td><td>1721.8816</td><td>697.6744</td><td>1245.2681</td><td>1877.4180</td><td>652.7559</td><td>722.7208</td><td>1140.2801</td><td>1003.5668</td></tr>\n",
       "\t<tr><th scope=row>6</th><td>?|136542   </td><td>  0.0000</td><td>  0.0000</td><td>   0.0000</td><td>  0.0000</td><td>  0.0000</td><td>  0.0000</td><td>   0.0000</td><td>   0.0000</td><td>  0.0000</td><td>⋯</td><td>   0.0000</td><td>   0.0000</td><td>   0.0000</td><td>  0.0000</td><td>   0.0000</td><td>   0.0000</td><td>  0.0000</td><td>  0.0000</td><td>   0.0000</td><td>   0.0000</td></tr>\n",
       "</tbody>\n",
       "</table>\n"
      ],
      "text/latex": [
       "A data.frame: 6 × 1213\n",
       "\\begin{tabular}{r|lllllllllllllllllllll}\n",
       "  & V1 & V2 & V3 & V4 & V5 & V6 & V7 & V8 & V9 & V10 & ⋯ & V1204 & V1205 & V1206 & V1207 & V1208 & V1209 & V1210 & V1211 & V1212 & V1213\\\\\n",
       "  & <chr> & <dbl> & <dbl> & <dbl> & <dbl> & <dbl> & <dbl> & <dbl> & <dbl> & <dbl> & ⋯ & <dbl> & <dbl> & <dbl> & <dbl> & <dbl> & <dbl> & <dbl> & <dbl> & <dbl> & <dbl>\\\\\n",
       "\\hline\n",
       "\t1 & ?\\textbar{}100130426 &   0.0000 &   0.0000 &    0.9066 &   0.0000 &   0.0000 &   0.0000 &    0.0000 &    0.0000 &   0.0000 & ⋯ &    0.0000 &    0.0000 &    0.0000 &   0.0000 &    0.0000 &    0.0000 &   0.0000 &   0.0000 &    0.0000 &    0.0000\\\\\n",
       "\t2 & ?\\textbar{}100133144 &  16.3644 &   9.2659 &   11.6228 &  12.0894 &   6.8468 &   3.9889 &    0.0000 &    1.4644 &  15.3396 & ⋯ &    0.3992 &    4.3126 &    0.0000 &   5.5624 &    0.0000 &    0.0000 &  14.3858 &  22.3240 &    2.2638 &    6.8865\\\\\n",
       "\t3 & ?\\textbar{}100134869 &  12.9316 &  17.3790 &    9.2294 &  11.0799 &  14.4298 &  13.6090 &   10.5949 &    8.9958 &  14.3935 & ⋯ &   14.3720 &   10.8828 &    3.0792 &  14.3711 &    6.3091 &    3.2580 &  21.4409 &  27.2744 &    7.2933 &   24.7795\\\\\n",
       "\t4 & ?\\textbar{}10357     &  52.1503 &  69.7553 &  154.2974 & 143.8643 &  84.2128 & 114.2572 &  115.9984 &  107.5628 & 116.3870 & ⋯ &  135.6241 &  136.1288 &   29.9974 & 128.3151 &   53.6278 &   42.2643 & 137.7756 &  64.1427 &   85.0461 &  167.5511\\\\\n",
       "\t5 & ?\\textbar{}10431     & 408.0760 & 563.8934 & 1360.8341 & 865.5358 & 766.3830 & 807.7431 & 1108.3945 & 1420.5021 & 657.2812 & ⋯ & 1570.1445 & 2886.3965 & 1721.8816 & 697.6744 & 1245.2681 & 1877.4180 & 652.7559 & 722.7208 & 1140.2801 & 1003.5668\\\\\n",
       "\t6 & ?\\textbar{}136542    &   0.0000 &   0.0000 &    0.0000 &   0.0000 &   0.0000 &   0.0000 &    0.0000 &    0.0000 &   0.0000 & ⋯ &    0.0000 &    0.0000 &    0.0000 &   0.0000 &    0.0000 &    0.0000 &   0.0000 &   0.0000 &    0.0000 &    0.0000\\\\\n",
       "\\end{tabular}\n"
      ],
      "text/markdown": [
       "\n",
       "A data.frame: 6 × 1213\n",
       "\n",
       "| <!--/--> | V1 &lt;chr&gt; | V2 &lt;dbl&gt; | V3 &lt;dbl&gt; | V4 &lt;dbl&gt; | V5 &lt;dbl&gt; | V6 &lt;dbl&gt; | V7 &lt;dbl&gt; | V8 &lt;dbl&gt; | V9 &lt;dbl&gt; | V10 &lt;dbl&gt; | ⋯ ⋯ | V1204 &lt;dbl&gt; | V1205 &lt;dbl&gt; | V1206 &lt;dbl&gt; | V1207 &lt;dbl&gt; | V1208 &lt;dbl&gt; | V1209 &lt;dbl&gt; | V1210 &lt;dbl&gt; | V1211 &lt;dbl&gt; | V1212 &lt;dbl&gt; | V1213 &lt;dbl&gt; |\n",
       "|---|---|---|---|---|---|---|---|---|---|---|---|---|---|---|---|---|---|---|---|---|---|\n",
       "| 1 | ?|100130426 |   0.0000 |   0.0000 |    0.9066 |   0.0000 |   0.0000 |   0.0000 |    0.0000 |    0.0000 |   0.0000 | ⋯ |    0.0000 |    0.0000 |    0.0000 |   0.0000 |    0.0000 |    0.0000 |   0.0000 |   0.0000 |    0.0000 |    0.0000 |\n",
       "| 2 | ?|100133144 |  16.3644 |   9.2659 |   11.6228 |  12.0894 |   6.8468 |   3.9889 |    0.0000 |    1.4644 |  15.3396 | ⋯ |    0.3992 |    4.3126 |    0.0000 |   5.5624 |    0.0000 |    0.0000 |  14.3858 |  22.3240 |    2.2638 |    6.8865 |\n",
       "| 3 | ?|100134869 |  12.9316 |  17.3790 |    9.2294 |  11.0799 |  14.4298 |  13.6090 |   10.5949 |    8.9958 |  14.3935 | ⋯ |   14.3720 |   10.8828 |    3.0792 |  14.3711 |    6.3091 |    3.2580 |  21.4409 |  27.2744 |    7.2933 |   24.7795 |\n",
       "| 4 | ?|10357     |  52.1503 |  69.7553 |  154.2974 | 143.8643 |  84.2128 | 114.2572 |  115.9984 |  107.5628 | 116.3870 | ⋯ |  135.6241 |  136.1288 |   29.9974 | 128.3151 |   53.6278 |   42.2643 | 137.7756 |  64.1427 |   85.0461 |  167.5511 |\n",
       "| 5 | ?|10431     | 408.0760 | 563.8934 | 1360.8341 | 865.5358 | 766.3830 | 807.7431 | 1108.3945 | 1420.5021 | 657.2812 | ⋯ | 1570.1445 | 2886.3965 | 1721.8816 | 697.6744 | 1245.2681 | 1877.4180 | 652.7559 | 722.7208 | 1140.2801 | 1003.5668 |\n",
       "| 6 | ?|136542    |   0.0000 |   0.0000 |    0.0000 |   0.0000 |   0.0000 |   0.0000 |    0.0000 |    0.0000 |   0.0000 | ⋯ |    0.0000 |    0.0000 |    0.0000 |   0.0000 |    0.0000 |    0.0000 |   0.0000 |   0.0000 |    0.0000 |    0.0000 |\n",
       "\n"
      ],
      "text/plain": [
       "  V1          V2       V3       V4        V5       V6       V7       V8       \n",
       "1 ?|100130426   0.0000   0.0000    0.9066   0.0000   0.0000   0.0000    0.0000\n",
       "2 ?|100133144  16.3644   9.2659   11.6228  12.0894   6.8468   3.9889    0.0000\n",
       "3 ?|100134869  12.9316  17.3790    9.2294  11.0799  14.4298  13.6090   10.5949\n",
       "4 ?|10357      52.1503  69.7553  154.2974 143.8643  84.2128 114.2572  115.9984\n",
       "5 ?|10431     408.0760 563.8934 1360.8341 865.5358 766.3830 807.7431 1108.3945\n",
       "6 ?|136542      0.0000   0.0000    0.0000   0.0000   0.0000   0.0000    0.0000\n",
       "  V9        V10      ⋯ V1204     V1205     V1206     V1207    V1208    \n",
       "1    0.0000   0.0000 ⋯    0.0000    0.0000    0.0000   0.0000    0.0000\n",
       "2    1.4644  15.3396 ⋯    0.3992    4.3126    0.0000   5.5624    0.0000\n",
       "3    8.9958  14.3935 ⋯   14.3720   10.8828    3.0792  14.3711    6.3091\n",
       "4  107.5628 116.3870 ⋯  135.6241  136.1288   29.9974 128.3151   53.6278\n",
       "5 1420.5021 657.2812 ⋯ 1570.1445 2886.3965 1721.8816 697.6744 1245.2681\n",
       "6    0.0000   0.0000 ⋯    0.0000    0.0000    0.0000   0.0000    0.0000\n",
       "  V1209     V1210    V1211    V1212     V1213    \n",
       "1    0.0000   0.0000   0.0000    0.0000    0.0000\n",
       "2    0.0000  14.3858  22.3240    2.2638    6.8865\n",
       "3    3.2580  21.4409  27.2744    7.2933   24.7795\n",
       "4   42.2643 137.7756  64.1427   85.0461  167.5511\n",
       "5 1877.4180 652.7559 722.7208 1140.2801 1003.5668\n",
       "6    0.0000   0.0000   0.0000    0.0000    0.0000"
      ]
     },
     "metadata": {},
     "output_type": "display_data"
    }
   ],
   "source": []
  },
  {
   "cell_type": "code",
   "execution_count": 8,
   "metadata": {},
   "outputs": [],
   "source": [
    "# Patient IDs\n",
    "IDs <- read.table(\"BRCA.rnaseqv2__illuminahiseq_rnaseqv2__unc_edu__Level_3__RSEM_genes_normalized__data.data.txt\", \n",
    "            header = F, fill = T, nrows = 1)"
   ]
  }
 ],
 "metadata": {
  "kernelspec": {
   "display_name": "R",
   "language": "R",
   "name": "ir"
  },
  "language_info": {
   "codemirror_mode": "r",
   "file_extension": ".r",
   "mimetype": "text/x-r-source",
   "name": "R",
   "pygments_lexer": "r",
   "version": "4.1.1"
  },
  "orig_nbformat": 4
 },
 "nbformat": 4,
 "nbformat_minor": 2
}
